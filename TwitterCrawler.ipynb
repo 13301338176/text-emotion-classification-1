{
 "cells": [
  {
   "cell_type": "code",
   "execution_count": 1,
   "metadata": {},
   "outputs": [],
   "source": [
    "import tweepy, csv\n",
    "import pandas as pd\n",
    "####input your credentials here\n",
    "consumer_key = 'GSDyidvmJDvBMlGsbwXd5oJcr'\n",
    "consumer_secret = '1JzMV9nFhtX2WyRtpqNZbsDQ8iIiApkfveiKrASi5uXuIy5wb3'\n",
    "access_token = '342602156-blKsnAaObTRsuVifwvwSrO3oeaUv3qS1RtoR49Vb'\n",
    "access_token_secret = '20CUaxbGK91YMOTimOnV3TXnky4ahaKooI4XAoZQoqTkA'"
   ]
  },
  {
   "cell_type": "code",
   "execution_count": null,
   "metadata": {},
   "outputs": [],
   "source": [
    "auth = tweepy.OAuthHandler(consumer_key, consumer_secret)\n",
    "auth.set_access_token(access_token, access_token_secret)\n",
    "api = tweepy.API(auth,wait_on_rate_limit=True)\n",
    "\n",
    "csvFile = open('happy.csv', 'a')\n",
    "csvWriter = csv.writer(csvFile)\n",
    "\n",
    "for tweet in tweepy.Cursor(api.search,q=\"#happy\",count=5,\n",
    "                           lang=\"en\",\n",
    "                           since=\"2017-06-06\").items():\n",
    "    print (tweet.created_at, tweet.text)\n",
    "    csvWriter.writerow([str(tweet.text),\"happy\"])"
   ]
  },
  {
   "cell_type": "code",
   "execution_count": null,
   "metadata": {},
   "outputs": [],
   "source": []
  }
 ],
 "metadata": {
  "kernelspec": {
   "display_name": "Python 3",
   "language": "python",
   "name": "python3"
  },
  "language_info": {
   "codemirror_mode": {
    "name": "ipython",
    "version": 3
   },
   "file_extension": ".py",
   "mimetype": "text/x-python",
   "name": "python",
   "nbconvert_exporter": "python",
   "pygments_lexer": "ipython3",
   "version": "3.6.4"
  }
 },
 "nbformat": 4,
 "nbformat_minor": 2
}
