{
 "cells": [
  {
   "cell_type": "code",
   "execution_count": null,
   "metadata": {},
   "outputs": [],
   "source": [
    "def extract_values(values):\n",
    "    return str(values).split(\" \")\n",
    "\n",
    "\n",
    "def calc_ratios(values):\n",
    "    try:\n",
    "        return values[0]/values[1]\n",
    "    except:\n",
    "        return None\n",
    "\n",
    "def get_integer_ratio():\n",
    "    data=input('Enter integer pair (hit Enter to quit)')  \n",
    "    while data !='':\n",
    "        values=extract_values(data)\n",
    "        ratio=calc_ratios(values)\n",
    "        print('The ratio of the two integers are: {:.2f}'.format(ratio))\n",
    "        data=input('Enter integer pair (hit Enter to quit)')"
   ]
  }
 ],
 "metadata": {
  "kernelspec": {
   "display_name": "Python 3",
   "language": "python",
   "name": "python3"
  },
  "language_info": {
   "codemirror_mode": {
    "name": "ipython",
    "version": 3
   },
   "file_extension": ".py",
   "mimetype": "text/x-python",
   "name": "python",
   "nbconvert_exporter": "python",
   "pygments_lexer": "ipython3",
   "version": "3.6.4"
  }
 },
 "nbformat": 4,
 "nbformat_minor": 2
}
