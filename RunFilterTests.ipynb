{
 "cells": [
  {
   "cell_type": "code",
   "execution_count": null,
   "metadata": {},
   "outputs": [
    {
     "name": "stdout",
     "output_type": "stream",
     "text": [
      "/Library/Frameworks/Python.framework/Versions/3.6/lib/python3.6/site-packages/h5py/__init__.py:36: FutureWarning: Conversion of the second argument of issubdtype from `float` to `np.floating` is deprecated. In future, it will be treated as `np.float64 == np.dtype(float).type`.\n",
      "  from ._conv import register_converters as _register_converters\n",
      "Using TensorFlow backend.\n",
      "[!] Now performing test: 1\n",
      "[i] Loaded Parameters:\n",
      " 40000 35 0.2 200 \n",
      " dataset/glove/glove.twitter.27B.200d.txt\n",
      "[i] . Reading from csv file...Done!\n",
      "[i] Found 30505 unique tokens.\n",
      "[+] Shape of data tensor: (40000, 30)\n",
      "[+] Shape of label tensor: (40000, 6)\n",
      "[+] Number of entries in each category:\n",
      "[+] Training:\n",
      " [ 7722.  7422.  4874. 10864.  1024.    94.]\n",
      "[+] Validation:\n",
      " [1922. 1848. 1155. 2760.  299.   16.]\n",
      "[i] Loading GloVe from: dataset/glove/glove.twitter.27B.200d.txt ...Done.\n",
      "[+] Proceeding with Embedding Matrix...Completed!\n",
      "Finished running setup.\n",
      "_________________________________________________________________\n",
      "Layer (type)                 Output Shape              Param #   \n",
      "=================================================================\n",
      "input_1 (InputLayer)         (None, 30)                0         \n",
      "_________________________________________________________________\n",
      "embedding_1 (Embedding)      (None, 30, 200)           6101200   \n",
      "_________________________________________________________________\n",
      "bidirectional_1 (Bidirection (None, 30, 8)             6560      \n",
      "_________________________________________________________________\n",
      "conv1d_1 (Conv1D)            (None, 30, 24)            216       \n",
      "_________________________________________________________________\n",
      "max_pooling1d_1 (MaxPooling1 (None, 15, 24)            0         \n",
      "_________________________________________________________________\n",
      "dropout_1 (Dropout)          (None, 15, 24)            0         \n",
      "_________________________________________________________________\n",
      "flatten_1 (Flatten)          (None, 360)               0         \n",
      "_________________________________________________________________\n",
      "dense_1 (Dense)              (None, 16)                5776      \n",
      "_________________________________________________________________\n",
      "dense_2 (Dense)              (None, 6)                 102       \n",
      "=================================================================\n",
      "Total params: 6,113,854\n",
      "Trainable params: 12,654\n",
      "Non-trainable params: 6,101,200\n",
      "_________________________________________________________________\n",
      "Training Progress:\n",
      "Train on 32000 samples, validate on 8000 samples\n",
      "Epoch 1/50\n",
      "32000/32000 [==============================] - 20s 619us/step - loss: 1.3510 - acc: 0.4273 - val_loss: 1.2606 - val_acc: 0.4955\n",
      "Epoch 2/50\n",
      "32000/32000 [==============================] - 18s 566us/step - loss: 1.2551 - acc: 0.4917 - val_loss: 1.2454 - val_acc: 0.4928\n",
      "Epoch 3/50\n",
      "32000/32000 [==============================] - 18s 552us/step - loss: 1.2427 - acc: 0.4995 - val_loss: 1.2387 - val_acc: 0.5019\n",
      "Epoch 4/50\n",
      "32000/32000 [==============================] - 18s 549us/step - loss: 1.2339 - acc: 0.5052 - val_loss: 1.2298 - val_acc: 0.5058\n",
      "Epoch 5/50\n",
      "32000/32000 [==============================] - 18s 568us/step - loss: 1.2277 - acc: 0.5077 - val_loss: 1.2282 - val_acc: 0.5084\n",
      "Epoch 6/50\n",
      "32000/32000 [==============================] - 18s 561us/step - loss: 1.2214 - acc: 0.5095 - val_loss: 1.2236 - val_acc: 0.5076\n",
      "Epoch 7/50\n",
      "32000/32000 [==============================] - 18s 561us/step - loss: 1.2130 - acc: 0.5148 - val_loss: 1.2172 - val_acc: 0.5080\n",
      "Epoch 8/50\n",
      "32000/32000 [==============================] - 18s 547us/step - loss: 1.2079 - acc: 0.5149 - val_loss: 1.2145 - val_acc: 0.5084\n",
      "Epoch 9/50\n",
      "32000/32000 [==============================] - 17s 530us/step - loss: 1.2042 - acc: 0.5168 - val_loss: 1.2144 - val_acc: 0.5070\n",
      "Epoch 10/50\n",
      "32000/32000 [==============================] - 17s 531us/step - loss: 1.1973 - acc: 0.5175 - val_loss: 1.2124 - val_acc: 0.5079\n",
      "Epoch 11/50\n",
      "32000/32000 [==============================] - 17s 529us/step - loss: 1.1973 - acc: 0.5180 - val_loss: 1.2114 - val_acc: 0.5080\n",
      "Epoch 12/50\n",
      "  320/32000 [..............................] - ETA: 15s - loss: 1.2300 - acc: 0.5125"
     ]
    }
   ],
   "source": [
    "!python3 run_filter_test.py 1"
   ]
  },
  {
   "cell_type": "code",
   "execution_count": null,
   "metadata": {},
   "outputs": [],
   "source": [
    "!python3 run_filter_test.py 2\n",
    "!python3 run_filter_test.py 3\n",
    "!python3 run_filter_test.py 4\n",
    "!python3 run_filter_test.py 5\n",
    "!python3 run_filter_test.py 6\n",
    "!python3 run_filter_test.py 7\n",
    "!python3 run_filter_test.py 8\n",
    "!python3 run_filter_test.py 9\n",
    "!python3 run_filter_test.py 10"
   ]
  }
 ],
 "metadata": {
  "kernelspec": {
   "display_name": "Python 3",
   "language": "python",
   "name": "python3"
  },
  "language_info": {
   "codemirror_mode": {
    "name": "ipython",
    "version": 3
   },
   "file_extension": ".py",
   "mimetype": "text/x-python",
   "name": "python",
   "nbconvert_exporter": "python",
   "pygments_lexer": "ipython3",
   "version": "3.6.4"
  }
 },
 "nbformat": 4,
 "nbformat_minor": 2
}
